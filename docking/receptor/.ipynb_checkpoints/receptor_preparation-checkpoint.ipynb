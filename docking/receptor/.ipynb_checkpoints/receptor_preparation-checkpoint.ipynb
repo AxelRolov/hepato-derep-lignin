{
 "cells": [
  {
   "cell_type": "code",
   "execution_count": null,
   "metadata": {},
   "outputs": [],
   "source": [
    "import pandas as pd\n",
    "from openmm.app import *\n",
    "from openmm import *\n",
    "from openmm.unit import *"
   ]
  },
  {
   "cell_type": "code",
   "execution_count": null,
   "metadata": {},
   "outputs": [],
   "source": [
    "pdb_path = \"./AF-P57790-F1-model_v1.pdb\" "
   ]
  },
  {
   "cell_type": "code",
   "execution_count": null,
   "metadata": {},
   "outputs": [],
   "source": [
    "print('Loading...')\n",
    "pdb = PDBFile(pdb_path)\n",
    "forcefield = ForceField('amber99sb.xml')\n",
    "modeller = Modeller(pdb.topology, pdb.positions)\n",
    "print('Adding hydrogens...')\n",
    "modeller.addHydrogens(forcefield, pH=7.4)\n",
    "print('Minimizing...')\n",
    "system = forcefield.createSystem(modeller.topology)\n",
    "integrator = VerletIntegrator(0.001*picoseconds)\n",
    "simulation = Simulation(modeller.topology, system, integrator)\n",
    "simulation.context.setPositions(modeller.positions)\n",
    "simulation.minimizeEnergy(maxIterations=1000)\n",
    "print('Saving...')\n",
    "positions = simulation.context.getState(getPositions=True).getPositions()\n",
    "PDBFile.writeFile(simulation.topology, positions, open(f'{pdb_path}'.replace('.pdb', '_minimized.pdb'), 'w'))\n",
    "print('Done')"
   ]
  }
 ],
 "metadata": {
  "kernelspec": {
   "display_name": "Python 3 (ipykernel)",
   "language": "python",
   "name": "python3"
  },
  "language_info": {
   "codemirror_mode": {
    "name": "ipython",
    "version": 3
   },
   "file_extension": ".py",
   "mimetype": "text/x-python",
   "name": "python",
   "nbconvert_exporter": "python",
   "pygments_lexer": "ipython3",
   "version": "3.9.13"
  }
 },
 "nbformat": 4,
 "nbformat_minor": 1
}
