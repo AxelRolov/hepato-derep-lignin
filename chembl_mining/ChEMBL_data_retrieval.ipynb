{
 "cells": [
  {
   "cell_type": "code",
   "execution_count": null,
   "id": "906372ed",
   "metadata": {},
   "outputs": [],
   "source": [
    "import mysql.connector\n",
    "import pandas as pd\n",
    "import numpy as np\n",
    "import rdkit\n",
    "import re\n",
    "\n",
    "from rdkit import Chem\n",
    "from rdkit.Chem.MolStandardize import rdMolStandardize\n",
    "from rdkit.Chem.rdMolDescriptors import CalcMolFormula\n",
    "from IPython.display import SVG\n",
    "from IPython.display import HTML\n",
    "from rdkit.Chem.Descriptors import MolWt\n",
    "from rdkit.Chem import Fragments\n",
    "\n",
    "pd.set_option('display.max_rows', 1000)\n",
    "pd.set_option('display.width', 1000)\n",
    "from datetime import datetime\n",
    "from standardization import standardize_compounds"
   ]
  },
  {
   "cell_type": "markdown",
   "id": "78a7f497",
   "metadata": {},
   "source": [
    "# Create connection to MySQL server"
   ]
  },
  {
   "cell_type": "code",
   "execution_count": null,
   "id": "50ab7fd6",
   "metadata": {},
   "outputs": [],
   "source": [
    "cnx = mysql.connector.connect(user='', password='',\n",
    "                              host='127.0.0.1',\n",
    "                              database='chembl29')#username, password, database name"
   ]
  },
  {
   "cell_type": "markdown",
   "id": "36b66608",
   "metadata": {},
   "source": [
    "# Retrieving assays/targets information related to Nrf2 from ChEMBL"
   ]
  },
  {
   "cell_type": "raw",
   "id": "c69043cc",
   "metadata": {},
   "source": [
    "Information about targets, assays, documents is retrieving from ChEMBL using target_dictionary.target_name, target_dictionary.pref_name, target_dictionary.short_name, assays.description, assays.assay_organism, docs.title, docs.abstract"
   ]
  },
  {
   "cell_type": "code",
   "execution_count": null,
   "id": "4bbce494",
   "metadata": {},
   "outputs": [],
   "source": [
    "assay_target_desc_query = ('select * from assays B \\\n",
    "                           join target_dictionary T on B.tid=T.tid \\\n",
    "                           join docs dc on B.doc_id=dc.doc_id \\\n",
    "                           where B.description like \"%nrf2%\" or \\\n",
    "                           B.description like \"%nfe2l2%\" or \\\n",
    "                           B.description like \"%nuclear%factor%erythroid%2%related%factor%2%\" or \\\n",
    "                           B.assay_organism like \"%nrf2%\" or \\\n",
    "                           B.assay_organism like \"%nfe2l2%\" or \\\n",
    "                           B.assay_organism like \"%nuclear%factor%erythroid%2%related%factor%2%\" or \\\n",
    "                           T.organism like \"%nrf2%\" or \\\n",
    "                           T.organism like \"%nfe2l2%\" or \\\n",
    "                           T.organism like \"%nuclear%factor%erythroid%2%related%factor%2%\" or \\\n",
    "                           T.pref_name like \"%nrf2%\" or \\\n",
    "                           T.pref_name like \"%nfe2l2%\" or \\\n",
    "                           T.pref_name like \"%nuclear%factor%erythroid%2%related%factor%2%\";')"
   ]
  },
  {
   "cell_type": "code",
   "execution_count": null,
   "id": "0ec561d3",
   "metadata": {},
   "outputs": [],
   "source": [
    "ass_df = pd.read_sql(assay_target_desc_query, cnx)"
   ]
  },
  {
   "cell_type": "code",
   "execution_count": null,
   "id": "197f4985",
   "metadata": {},
   "outputs": [],
   "source": [
    "ass_df['assay_id'].nunique()"
   ]
  },
  {
   "cell_type": "code",
   "execution_count": null,
   "id": "d450d75c",
   "metadata": {},
   "outputs": [],
   "source": [
    "ass_df.head()"
   ]
  },
  {
   "cell_type": "markdown",
   "id": "a1050c08",
   "metadata": {},
   "source": [
    "# Retrieving bioactivity/compound information from ChEMBL"
   ]
  },
  {
   "cell_type": "code",
   "execution_count": null,
   "id": "5e9601ed",
   "metadata": {},
   "outputs": [],
   "source": [
    "ass_lst = str(ass_df.assay_id.tolist()).replace(\"[\", '')\n",
    "ass_lst = ass_lst.replace(\"]\", '')"
   ]
  },
  {
   "cell_type": "code",
   "execution_count": null,
   "id": "c56f7e05",
   "metadata": {},
   "outputs": [],
   "source": [
    "activity_comp_query = ('select * from assays B \\\n",
    "                           join activities A on B.assay_id=A.assay_id \\\n",
    "                           join compound_structures cs on A.molregno=cs.molregno \\\n",
    "                           where B.assay_id in ' + '(' + ass_lst + ');')"
   ]
  },
  {
   "cell_type": "code",
   "execution_count": null,
   "id": "cde9c62c",
   "metadata": {},
   "outputs": [],
   "source": [
    "stract_df = pd.read_sql(activity_comp_query, cnx)"
   ]
  },
  {
   "cell_type": "code",
   "execution_count": null,
   "id": "3a286b36",
   "metadata": {},
   "outputs": [],
   "source": [
    "stract_df.shape"
   ]
  },
  {
   "cell_type": "code",
   "execution_count": null,
   "id": "d64878bd",
   "metadata": {},
   "outputs": [],
   "source": [
    "stract_df = stract_df[~stract_df['canonical_smiles'].isna()]"
   ]
  },
  {
   "cell_type": "code",
   "execution_count": null,
   "id": "1769bf3a",
   "metadata": {},
   "outputs": [],
   "source": [
    "df_std = standardize_compounds(list(stract_df['canonical_smiles'].unique()), list(stract_df['molregno'].unique()), \"Remove\")"
   ]
  },
  {
   "cell_type": "code",
   "execution_count": null,
   "id": "b788e724",
   "metadata": {},
   "outputs": [],
   "source": [
    "df_std.rename(columns={'cid': 'molregno'}, inplace=True)"
   ]
  },
  {
   "cell_type": "code",
   "execution_count": null,
   "id": "46fcfbde",
   "metadata": {},
   "outputs": [],
   "source": [
    "df_std.shape[0] - df_std['cid'].nunique()  # checking whether there were entries, that have been parsed to several seperate lines"
   ]
  },
  {
   "cell_type": "code",
   "execution_count": null,
   "id": "b2f5f4d9",
   "metadata": {},
   "outputs": [],
   "source": [
    "df_std['rdkit_smi'] = df_std['molecule'].apply(lambda x: Chem.MolToSmiles(x))"
   ]
  },
  {
   "cell_type": "code",
   "execution_count": null,
   "id": "50c77641",
   "metadata": {},
   "outputs": [],
   "source": [
    "stract_df = pd.merge(stract_df, df_std, on='molregno', how='left')\n",
    "stract_df['std_formula'] = stract_df['molecule'].apply(lambda x: CalcMolFormula(x))"
   ]
  },
  {
   "cell_type": "markdown",
   "id": "7c8d7d2c",
   "metadata": {},
   "source": [
    "# Filtering non-CHO formulae"
   ]
  },
  {
   "cell_type": "code",
   "execution_count": null,
   "id": "43d02126",
   "metadata": {},
   "outputs": [],
   "source": [
    "stract_df['CHO'] = stract_df['std_formula'].apply(lambda x: check_cho(x))\n",
    "stract_df['CHO'] = stract_df['CHO'].fillna(1)"
   ]
  },
  {
   "cell_type": "code",
   "execution_count": null,
   "id": "adc69cab",
   "metadata": {},
   "outputs": [],
   "source": [
    "stract_df['CHO'].value_counts()"
   ]
  },
  {
   "cell_type": "code",
   "execution_count": null,
   "id": "1e2c67e9",
   "metadata": {},
   "outputs": [],
   "source": [
    "stract_df_cho = stract_df.loc[(stract_df['CHO']==1)]"
   ]
  },
  {
   "cell_type": "code",
   "execution_count": null,
   "id": "8a0dabba",
   "metadata": {},
   "outputs": [],
   "source": [
    "stract_df.loc[(stract_df['CHO']==1)&stract_df['description'].str.contains('cytotoxicity')]['description'].unique()"
   ]
  },
  {
   "cell_type": "code",
   "execution_count": null,
   "id": "1d3d41ab",
   "metadata": {},
   "outputs": [],
   "source": [
    "ass_cytotx_ls = [737190]"
   ]
  },
  {
   "cell_type": "code",
   "execution_count": null,
   "id": "6a39a725",
   "metadata": {},
   "outputs": [],
   "source": [
    "stract_df_cho = stract_df_cho.loc[~stract_df_cho['assay_id'].iloc[:, 0].isin(ass_cytotx_ls)]"
   ]
  },
  {
   "cell_type": "code",
   "execution_count": null,
   "id": "b65cdb12",
   "metadata": {},
   "outputs": [],
   "source": [
    "stract_df_cho['activity_comment'].unique()"
   ]
  },
  {
   "cell_type": "code",
   "execution_count": null,
   "id": "dec600a6",
   "metadata": {},
   "outputs": [],
   "source": [
    "stract_df_cho['active'] = np.nan\n",
    "stract_df_cho = stract_df_cho.loc[~stract_df_cho['activity_comment'].isin(['Non-toxic', 'Non-Toxic', 'Toxic', 'Nd(Toxic)', 'Not Determined'])]\n",
    "stract_df_cho.loc[stract_df_cho['activity_comment'].isin(['Not Active', 'inactive']), 'active'] = 0\n",
    "stract_df_cho.loc[stract_df_cho['activity_comment'].isin(['Active', 'Dose-dependent effect', 'tde', 'inconclusive',\n",
    "                                                 'active', 'Tde']), 'active'] = 1\n",
    "stract_df_cho.loc[stract_df_cho['standard_type'].isin(['EC50', 'IC50'])&stract_df_cho['standard_relation']=='>', 'active'] = 0\n",
    "stract_df_cho.loc[stract_df_cho['standard_type'].isin(['Activity'])&(stract_df_cho['standard_units']=='%')&(stract_df_cho['standard_value']<50), 'active'] = 0"
   ]
  },
  {
   "cell_type": "code",
   "execution_count": null,
   "id": "786bd92e",
   "metadata": {},
   "outputs": [],
   "source": [
    "stract_df_cho.loc[stract_df_cho['active'].isna(), 'active'] = 1"
   ]
  },
  {
   "cell_type": "code",
   "execution_count": null,
   "id": "a40726b2",
   "metadata": {},
   "outputs": [],
   "source": [
    "stract_df.loc[stract_df['activity_comment'].isna(), 'activity_comment'] = 'empty'\n",
    "stract_df['activity_comment'] = stract_df['activity_comment'].astype(str)"
   ]
  },
  {
   "cell_type": "code",
   "execution_count": null,
   "id": "fe2dfb67",
   "metadata": {},
   "outputs": [],
   "source": []
  },
  {
   "cell_type": "code",
   "execution_count": null,
   "id": "c5b4622b",
   "metadata": {},
   "outputs": [],
   "source": [
    "df_fin = stract_df_cho.loc[(stract_df['CHO']==1)].groupby(['molecule_smi'])['active'].mean().reset_index()"
   ]
  },
  {
   "cell_type": "code",
   "execution_count": null,
   "id": "9da4e4fa",
   "metadata": {},
   "outputs": [],
   "source": [
    "df_fin['active'].value_counts()"
   ]
  },
  {
   "cell_type": "code",
   "execution_count": null,
   "id": "43540013",
   "metadata": {},
   "outputs": [],
   "source": [
    "df_fin = df_fin[~(df_fin['active']==0)]"
   ]
  },
  {
   "cell_type": "code",
   "execution_count": null,
   "id": "54bff26c",
   "metadata": {},
   "outputs": [],
   "source": [
    "df_fin.to_csv('./Structures_nrf2_4DL_fine_tuning.csv', index=False)"
   ]
  }
 ],
 "metadata": {
  "kernelspec": {
   "display_name": "Python 3 (ipykernel)",
   "language": "python",
   "name": "python3"
  },
  "language_info": {
   "codemirror_mode": {
    "name": "ipython",
    "version": 3
   },
   "file_extension": ".py",
   "mimetype": "text/x-python",
   "name": "python",
   "nbconvert_exporter": "python",
   "pygments_lexer": "ipython3",
   "version": "3.9.13"
  }
 },
 "nbformat": 4,
 "nbformat_minor": 5
}
