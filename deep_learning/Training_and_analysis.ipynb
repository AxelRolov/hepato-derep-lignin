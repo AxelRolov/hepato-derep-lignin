{
 "cells": [
  {
   "cell_type": "code",
   "execution_count": null,
   "id": "7867874f",
   "metadata": {},
   "outputs": [],
   "source": [
    "import os\n",
    "import subprocess\n",
    "import pandas as pd\n",
    "import matplotlib.pyplot as plt"
   ]
  },
  {
   "cell_type": "code",
   "execution_count": null,
   "id": "226f2efd",
   "metadata": {},
   "outputs": [],
   "source": [
    "def draw_curve(filename: str, sep=';') -> None:\n",
    "    df = pd.read_csv(filename, sep=sep)\n",
    "    plt.figure(figsize=(10, 4))\n",
    "    plt.title(\"Loss vs Epoch\")\n",
    "    plt.plot(df['epoch'], df['train_loss'], label=\"Train loss\")\n",
    "    plt.plot(df['epoch'], df['test_loss'], label=\"Test loss\")\n",
    "    plt.legend()"
   ]
  },
  {
   "cell_type": "markdown",
   "id": "959b04ae",
   "metadata": {},
   "source": [
    "## Train the model"
   ]
  },
  {
   "cell_type": "code",
   "execution_count": null,
   "id": "2e8d8504",
   "metadata": {},
   "outputs": [],
   "source": [
    "cmd = [\n",
    "    'python',\n",
    "    '-u',\n",
    "    'train.py',\n",
    "    '--smiles_data=COCONUT_CHO.txt',\n",
    "    '--vocab_from=COCONUT_CHO.txt',\n",
    "    '--save_dir=./save_2',\n",
    "    '--lr=1e-4'\n",
    "]\n",
    "\n",
    "cmd_with_hepato = [\n",
    "    'python',\n",
    "    '-u',\n",
    "    'train.py ',\n",
    "    '--smiles_data=COCONUT_hepato_CHO.txt',\n",
    "    '--vocab_from=COCONUT_hepato_CHO.txt',\n",
    "    '--save_dir=./save_3 ',\n",
    "    '--lr=1e-4',\n",
    "]\n"
   ]
  },
  {
   "cell_type": "markdown",
   "id": "552f2ce8",
   "metadata": {},
   "source": [
    "#### training without hepato"
   ]
  },
  {
   "cell_type": "code",
   "execution_count": null,
   "id": "15ee2d25",
   "metadata": {},
   "outputs": [],
   "source": [
    "with open('training_logs.txt', 'w') as out:\n",
    "    return_code = subprocess.call(cmd, stdout=out)"
   ]
  },
  {
   "cell_type": "markdown",
   "id": "302b5358",
   "metadata": {},
   "source": [
    "#### training with hepato"
   ]
  },
  {
   "cell_type": "code",
   "execution_count": null,
   "id": "2c56d351",
   "metadata": {},
   "outputs": [],
   "source": [
    "with open('hepato_training_logs.txt', 'w') as out:\n",
    "    return_code = subprocess.call(cmd_with_hepato, stdout=out)"
   ]
  },
  {
   "cell_type": "markdown",
   "id": "301d7184",
   "metadata": {},
   "source": [
    "### Retrain the model using pretrained model with low learning rate"
   ]
  },
  {
   "cell_type": "markdown",
   "id": "2114687f",
   "metadata": {},
   "source": [
    "### Taking different checkpoint to retrain model"
   ]
  },
  {
   "cell_type": "code",
   "execution_count": null,
   "id": "22ef3631",
   "metadata": {},
   "outputs": [],
   "source": [
    "retrain_cmd_100_50 = [\n",
    "    'python',\n",
    "    '-u',\n",
    "    'train.py',\n",
    "    '--smiles_data=chembl_hepato.txt',\n",
    "    '--vocab_from=COCONUT_CHO.txt',\n",
    "    '--save_dir=./save_2_2000_50',\n",
    "    '--lr=1e-5',\n",
    "    '--num_epochs=50',\n",
    "    '--pretrained=./save_2/model_99.ckpt-99',\n",
    "]\n",
    "\n",
    "with open('retraining_100_50_logs.txt', 'w') as out:\n",
    "    return_code = subprocess.call(retrain_cmd_100_50, stdout=out)"
   ]
  },
  {
   "cell_type": "code",
   "execution_count": null,
   "id": "35b864db",
   "metadata": {},
   "outputs": [],
   "source": [
    "retrain_cmd_45_50 = [\n",
    "    'python',\n",
    "    '-u',\n",
    "    'train.py',\n",
    "    '--smiles_data=2000_smiles.txt',\n",
    "    '--vocab_from=COCONUT_CHO_drop_bad_stuff.txt',\n",
    "    '--save_dir=./save_2_2000_45_50',\n",
    "    '--lr=1e-5',\n",
    "    '--num_epochs=50',\n",
    "    '--pretrained=./save_2/model_44.ckpt-44',\n",
    "]\n",
    "\n",
    "with open('retrain_cmd_45_50.txt', 'w') as out:\n",
    "    return_code = subprocess.call(retrain_cmd_45_50, stdout=out)"
   ]
  },
  {
   "cell_type": "code",
   "execution_count": null,
   "id": "e036fcd8",
   "metadata": {},
   "outputs": [],
   "source": [
    "retrain_cmd_40_50 = [\n",
    "    'python',\n",
    "    '-u',\n",
    "    'train.py',\n",
    "    '--smiles_data=2000_smiles.txt',\n",
    "    '--vocab_from=COCONUT_CHO_drop_bad_stuff.txt ',\n",
    "    '--save_dir=./save_2_2000_39_50',\n",
    "    '--lr=1e-5',\n",
    "    '--num_epochs=50',\n",
    "    '--pretrained=./save_2/model_39.ckpt-39',\n",
    "]\n",
    "\n",
    "with open('retrain_cmd_40_50.txt', 'w') as out:\n",
    "    return_code = subprocess.call(retrain_cmd_40_50, stdout=out)"
   ]
  },
  {
   "cell_type": "markdown",
   "id": "0f9a3217",
   "metadata": {},
   "source": [
    "### Grabbing information about train and test loss from logs and save it to .csv"
   ]
  },
  {
   "cell_type": "markdown",
   "id": "89019b48",
   "metadata": {},
   "source": [
    "### Plotting the results"
   ]
  },
  {
   "cell_type": "code",
   "execution_count": null,
   "id": "9bdf3ffd",
   "metadata": {},
   "outputs": [],
   "source": [
    "draw_curve(\"retrain_cmd_100_50.csv\", sep='\\t')"
   ]
  },
  {
   "cell_type": "code",
   "execution_count": null,
   "id": "a0a8e8a6",
   "metadata": {},
   "outputs": [],
   "source": [
    "draw_curve(\"retrain_cmd_45_50.csv\", sep='\\t')"
   ]
  },
  {
   "cell_type": "code",
   "execution_count": null,
   "id": "8e9913b5",
   "metadata": {},
   "outputs": [],
   "source": [
    "draw_curve(\"retrain_cmd_40_50.csv\", sep='\\t')"
   ]
  },
  {
   "cell_type": "markdown",
   "id": "95ce3452",
   "metadata": {},
   "source": [
    "### Smiles sampling"
   ]
  },
  {
   "cell_type": "code",
   "execution_count": null,
   "id": "1fdb3320",
   "metadata": {},
   "outputs": [],
   "source": [
    "sampling_cmd = [\n",
    "    'python',\n",
    "    'sample.py',\n",
    "    '--vocab_from=COCONUT_CHO.txt',\n",
    "    '--save_file=save_2_2000_44_50/model_49.ckpt-49',\n",
    "    '--result_filename=result_COCONUT_99_9_2000_44_50.txt',\n",
    "    '--num_iteration=500000',\n",
    "]\n",
    "\n",
    "sampling_cmd_a = [\n",
    "    'python',\n",
    "    'sample.py',\n",
    "    '--vocab_from=COCONUT_CHO_drop_bad_stuff.txt',\n",
    "    '--save_file=save_2_2000_44_50/model_49.ckpt-49',\n",
    "    '--result_filename=result_COCONUT_99_9_2000_44_50a.txt',\n",
    "    '--num_iteration=500000',\n",
    "]\n",
    "\n",
    "sampling_cmd_b = [\n",
    "    'python',\n",
    "    'sample.py',\n",
    "    '--vocab_from=COCONUT_CHO_drop_bad_stuff.txt',\n",
    "    '--save_file=save_2_2000_44_50/model_49.ckpt-49',\n",
    "    '--result_filename=result_COCONUT_99_9_2000_44_50b.txt',\n",
    "    '--num_iteration=500000',\n",
    "]\n",
    "\n",
    "\n",
    "with open('sampling_cmd_44_50.txt', 'w') as out:\n",
    "    return_code = subprocess.call(sampling_cmd, stdout=out)\n",
    "\n",
    "    \n",
    "with open('sampling_cmd_a.txt', 'w') as out:\n",
    "    return_code = subprocess.call(sampling_cmd_a, stdout=out)\n",
    "\n",
    "    \n",
    "with open('sampling_cmd_b.txt', 'w') as out:\n",
    "    return_code = subprocess.call(sampling_cmd_b, stdout=out)"
   ]
  },
  {
   "cell_type": "markdown",
   "id": "5364c0ed",
   "metadata": {},
   "source": [
    "### Drawing smiles"
   ]
  },
  {
   "cell_type": "code",
   "execution_count": null,
   "id": "e7d6bbde",
   "metadata": {},
   "outputs": [],
   "source": [
    "from rdkit import Chem\n",
    "from rdkit.Chem import Draw, AllChem"
   ]
  },
  {
   "cell_type": "code",
   "execution_count": null,
   "id": "9711440a",
   "metadata": {},
   "outputs": [],
   "source": [
    "def draw_random(smiles, x=4, y=4):\n",
    "    ms = []\n",
    "    n = x*y\n",
    "    for i in range(n):\n",
    "        ms.append(random.choice(smiles))\n",
    "        \n",
    "    ms = [Chem.MolFromSmiles(_) for _ in ms]\n",
    "    return Draw.MolsToGridImage(ms,molsPerRow=x,subImgSize=(200,200))"
   ]
  },
  {
   "cell_type": "code",
   "execution_count": null,
   "id": "32bd9de8",
   "metadata": {},
   "outputs": [],
   "source": [
    "smiles = [smile.strip() for smile in open(\"result_COCONUT_99_9_2000_44_50.txt\").readlines()]"
   ]
  },
  {
   "cell_type": "code",
   "execution_count": null,
   "id": "627308ae",
   "metadata": {},
   "outputs": [],
   "source": [
    "draw_random(smiles, x=6, y=6)"
   ]
  },
  {
   "cell_type": "markdown",
   "id": "dd7ab34b",
   "metadata": {},
   "source": [
    "### Analysing the results"
   ]
  },
  {
   "cell_type": "code",
   "execution_count": null,
   "id": "07b14c0c",
   "metadata": {},
   "outputs": [],
   "source": [
    "a = pd.read_csv(\"result_COCONUT_99_9_2000_44_50a.txt\", header=None)[0]\n",
    "b = pd.read_csv(\"result_COCONUT_99_9_2000_44_50b.txt\", header=None)[0]\n",
    "{\n",
    "    \"iterations\": 500000,\n",
    "    \"len(a)\": len(a),\n",
    "    \"len(set(b)\": len(set(a)),\n",
    "    \"len(b)\": len(b),\n",
    "    \"len(set(b))\": len(set(b)),\n",
    "    \"len(a&b)\": len(set(a) & set(b))\n",
    "}"
   ]
  },
  {
   "cell_type": "code",
   "execution_count": null,
   "id": "5285c580",
   "metadata": {},
   "outputs": [],
   "source": []
  }
 ],
 "metadata": {
  "kernelspec": {
   "display_name": "Python 3 (ipykernel)",
   "language": "python",
   "name": "python3"
  },
  "language_info": {
   "codemirror_mode": {
    "name": "ipython",
    "version": 3
   },
   "file_extension": ".py",
   "mimetype": "text/x-python",
   "name": "python",
   "nbconvert_exporter": "python",
   "pygments_lexer": "ipython3",
   "version": "3.9.13"
  }
 },
 "nbformat": 4,
 "nbformat_minor": 5
}
